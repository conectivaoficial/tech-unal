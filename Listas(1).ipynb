{
  "nbformat": 4,
  "nbformat_minor": 0,
  "metadata": {
    "colab": {
      "provenance": []
    },
    "kernelspec": {
      "name": "python3",
      "display_name": "Python 3"
    },
    "language_info": {
      "name": "python"
    }
  },
  "cells": [
    {
      "cell_type": "markdown",
      "source": [
        "# ¿Qué son las estructuras de datos y por qué son importantes en programación?\n",
        "\n",
        "Las estructuras de datos son formas organizadas y eficientes de almacenar, gestionar y acceder a datos en un programa de computadora. Son fundamentales en programación porque permiten a los programadores organizar y manipular datos de manera efectiva, lo que es esencial para resolver una amplia variedad de problemas y desarrollar aplicaciones. Las estructuras de datos adecuadas pueden mejorar la eficiencia del código, facilitar la búsqueda y recuperación de información, y simplificar la implementación de algoritmos."
      ],
      "metadata": {
        "id": "-H-9iSXcIjrW"
      }
    },
    {
      "cell_type": "markdown",
      "source": [
        "## Listas en Python\n",
        "\n",
        "Es una estructura de datos que permite almacenar una colección ordenada de elementos. Los elementos de una lista pueden ser de cualquier tipo de dato, y la lista puede cambiar en tamaño dinámicamente.\n",
        "\n",
        "### Creación de Listas:\n",
        "Las listas se crean utilizando corchetes [] y separando los elementos con comas. Por ejemplo: mi_lista = [1, 2, 3, 'cuatro'].\n",
        "\n",
        "### Indexación de Listas:\n",
        "Los elementos de una lista se acceden mediante un índice, comenzando desde 0 para el primer elemento. Por ejemplo: mi_lista[0] devuelve el primer elemento de la lista.\n",
        "\n",
        "### Rebanado (Slicing) de Listas:\n",
        "Puedes obtener un subconjunto de elementos de una lista utilizando la notación de rebanado. Por ejemplo: mi_lista[1:3] devolverá los elementos en las posiciones 1 y 2.\n",
        "\n",
        "### Métodos de Listas:\n",
        "Python proporciona una variedad de métodos integrados para trabajar con listas, como append(), insert(), remove(), pop(), extend(), sort(), reverse(), entre otros."
      ],
      "metadata": {
        "id": "zcJPEPhvIn9e"
      }
    },
    {
      "cell_type": "markdown",
      "source": [
        "### **Ejemplos y ejercicios prácticos con listas**\n",
        "\n",
        "**Ejemplo 1: Creación de una lista y acceso a elementos.**"
      ],
      "metadata": {
        "id": "L46vsnP8I9dR"
      }
    },
    {
      "cell_type": "code",
      "source": [
        "mi_lista=[10,18,20,40,50,30]"
      ],
      "metadata": {
        "id": "l7oBOzDrJEPi"
      },
      "execution_count": null,
      "outputs": []
    },
    {
      "cell_type": "code",
      "source": [
        "mi_lista"
      ],
      "metadata": {
        "colab": {
          "base_uri": "https://localhost:8080/"
        },
        "id": "tNel_nan4-zL",
        "outputId": "22aa0505-e3fd-49a6-8373-3530f006475b"
      },
      "execution_count": null,
      "outputs": [
        {
          "output_type": "execute_result",
          "data": {
            "text/plain": [
              "[10, 18, 20, 40, 50, 30]"
            ]
          },
          "metadata": {},
          "execution_count": 2
        }
      ]
    },
    {
      "cell_type": "markdown",
      "source": [
        "**Ejemplo 2: Uso del método append() para agregar elementos a una lista.**"
      ],
      "metadata": {
        "id": "PX54fK7VJHvp"
      }
    },
    {
      "cell_type": "code",
      "source": [
        "frutas=[\"manzanas\",\"moras\",\"bananos\"]"
      ],
      "metadata": {
        "id": "vKf3LUuYJI8l"
      },
      "execution_count": null,
      "outputs": []
    },
    {
      "cell_type": "code",
      "source": [
        "frutas.append(\"naranjas\")  #agregar un elemento al final de la lista\n",
        "frutas"
      ],
      "metadata": {
        "colab": {
          "base_uri": "https://localhost:8080/"
        },
        "id": "kkCVfh9-5Lv_",
        "outputId": "42a816a5-09ff-4e3e-dddb-2d0fec297ab2"
      },
      "execution_count": null,
      "outputs": [
        {
          "output_type": "execute_result",
          "data": {
            "text/plain": [
              "['manzanas', 'moras', 'bananos', 'naranjas']"
            ]
          },
          "metadata": {},
          "execution_count": 4
        }
      ]
    },
    {
      "cell_type": "markdown",
      "source": [
        "**Ejemplo 3: Rebanado de una lista.**"
      ],
      "metadata": {
        "id": "qOt8i-0cJKzK"
      }
    },
    {
      "cell_type": "code",
      "source": [
        "mi_sublista=mi_lista[1:4]  #crea una lista a partir de otra que contiene los elementos de la posicion 1 a la 3\n",
        "mi_sublista"
      ],
      "metadata": {
        "id": "0PBwPKz4JOw1",
        "colab": {
          "base_uri": "https://localhost:8080/"
        },
        "outputId": "38af8286-f786-4846-e997-d2221ca26ff5"
      },
      "execution_count": null,
      "outputs": [
        {
          "output_type": "execute_result",
          "data": {
            "text/plain": [
              "[18, 20, 40]"
            ]
          },
          "metadata": {},
          "execution_count": 5
        }
      ]
    },
    {
      "cell_type": "markdown",
      "source": [
        "**Ejemplo 4: Metodos pop() y remove() en una lista**\n",
        "\n",
        "* pop(): Se utiliza para eliminar y devolver un elemento de una lista en función de su índice. Si no se especifica un índice, se elimina y devuelve el último elemento de la lista. Esto es útil cuando necesitas quitar un elemento específico y trabajar con él.\n",
        "\n",
        "* remove(): Se utiliza para eliminar el primer elemento de la lista que coincide con un valor específico. Es útil cuando deseas eliminar un elemento basado en su valor en lugar de su posición en la lista."
      ],
      "metadata": {
        "id": "AQZ_6wmcJvsn"
      }
    },
    {
      "cell_type": "markdown",
      "source": [
        "## **Preguntas y respuestas**\n",
        "\n",
        "1. ¿Cuál es la diferencia entre una lista y una tupla en Python?\n",
        "2. ¿Qué es el índice negativo en la indexación de listas?\n",
        "3. ¿Puede una lista contener elementos de diferentes tipos de datos?"
      ],
      "metadata": {
        "id": "RjPDRqBeJSer"
      }
    },
    {
      "cell_type": "code",
      "source": [
        "#menu de un restaurante\n",
        "menu=[\"hamburguesa\",\"perro caliente\",\"pizza\",\"maicitos\"]\n",
        "\n",
        "def plato_nuevo(menu):\n",
        "  platoNuevo=input(\"Cual desea que sea el plato nuevo este mes?: \")\n",
        "  menu.append(platoNuevo)\n",
        "  print(f\"Este es el menú actualizado: {menu}\")"
      ],
      "metadata": {
        "id": "KUaKGyK46nzs"
      },
      "execution_count": null,
      "outputs": []
    },
    {
      "cell_type": "code",
      "source": [
        "plato_nuevo(menu)"
      ],
      "metadata": {
        "colab": {
          "base_uri": "https://localhost:8080/"
        },
        "id": "FV3XV8oC7xgi",
        "outputId": "eda741e0-e0a0-4452-849c-52f7bc4e2543"
      },
      "execution_count": null,
      "outputs": [
        {
          "output_type": "stream",
          "name": "stdout",
          "text": [
            "Cual desea que sea el plato nuevo este mes?: Choripan\n",
            "Este es el menú actualizado: ['hamburguesa', 'perro caliente', 'pizza', 'maicitos', 'Choripan']\n"
          ]
        }
      ]
    },
    {
      "cell_type": "code",
      "source": [
        "menu.insert(0,\"Arroz con Pollo\")  #insertar un elemento a la lista dandole la posicion\n",
        "menu"
      ],
      "metadata": {
        "colab": {
          "base_uri": "https://localhost:8080/"
        },
        "id": "GNSr0HPQ7_vX",
        "outputId": "1a1ccd20-3954-4996-8f6e-1ac1fbf17dc0"
      },
      "execution_count": null,
      "outputs": [
        {
          "output_type": "execute_result",
          "data": {
            "text/plain": [
              "['Arroz con Pollo',\n",
              " 'hamburguesa',\n",
              " 'perro caliente',\n",
              " 'pizza',\n",
              " 'maicitos',\n",
              " 'Choripan']"
            ]
          },
          "metadata": {},
          "execution_count": 8
        }
      ]
    },
    {
      "cell_type": "code",
      "source": [
        "menu.pop(5)  #eliminar un elemento de la lista dandole la posicion\n",
        "menu"
      ],
      "metadata": {
        "colab": {
          "base_uri": "https://localhost:8080/"
        },
        "id": "1KUraRUI8chs",
        "outputId": "a77c3d1e-3d5b-401f-a488-2e73c3c11281"
      },
      "execution_count": null,
      "outputs": [
        {
          "output_type": "execute_result",
          "data": {
            "text/plain": [
              "['Arroz con Pollo', 'hamburguesa', 'perro caliente', 'pizza', 'maicitos']"
            ]
          },
          "metadata": {},
          "execution_count": 9
        }
      ]
    },
    {
      "cell_type": "code",
      "source": [
        "menu.append(\"Arroz con Pollo\")\n",
        "menu"
      ],
      "metadata": {
        "colab": {
          "base_uri": "https://localhost:8080/"
        },
        "id": "iUgJeYwn8kxj",
        "outputId": "ddaffd6b-7245-4a49-f7f0-0d73d5fcefed"
      },
      "execution_count": null,
      "outputs": [
        {
          "output_type": "execute_result",
          "data": {
            "text/plain": [
              "['Arroz con Pollo',\n",
              " 'hamburguesa',\n",
              " 'perro caliente',\n",
              " 'pizza',\n",
              " 'maicitos',\n",
              " 'Arroz con Pollo']"
            ]
          },
          "metadata": {},
          "execution_count": 10
        }
      ]
    },
    {
      "cell_type": "code",
      "source": [
        "menu.remove(\"Arroz con Pollo\")  #eliminar un elemento de la lista dando los valores exactos (elimina el primer elemento que coincida)\n",
        "menu"
      ],
      "metadata": {
        "colab": {
          "base_uri": "https://localhost:8080/"
        },
        "id": "dg0hkedg8sRg",
        "outputId": "580b6fb1-2b98-48da-8c92-1f068703aa9d"
      },
      "execution_count": null,
      "outputs": [
        {
          "output_type": "execute_result",
          "data": {
            "text/plain": [
              "['hamburguesa', 'perro caliente', 'pizza', 'maicitos', 'Arroz con Pollo']"
            ]
          },
          "metadata": {},
          "execution_count": 11
        }
      ]
    },
    {
      "cell_type": "markdown",
      "source": [
        "### **lista de listas**"
      ],
      "metadata": {
        "id": "mUTCfs8s9hu1"
      }
    },
    {
      "cell_type": "code",
      "source": [
        "equiposLaSalle=[[\"Fran\", \"Carlos\",\"Maria\"], [\"Juan\",\"José\",\"Pedro\"],[\"Diego\",\"Luisa\",\"Carolina\"]]\n",
        "equiposLaSalle"
      ],
      "metadata": {
        "colab": {
          "base_uri": "https://localhost:8080/"
        },
        "id": "INw5meEy9ZKS",
        "outputId": "eaca4825-dea0-442d-861c-2f010878063a"
      },
      "execution_count": null,
      "outputs": [
        {
          "output_type": "execute_result",
          "data": {
            "text/plain": [
              "[['Fran', 'Carlos', 'Maria'],\n",
              " ['Juan', 'José', 'Pedro'],\n",
              " ['Diego', 'Luisa', 'Carolina']]"
            ]
          },
          "metadata": {},
          "execution_count": 12
        }
      ]
    },
    {
      "cell_type": "code",
      "source": [
        "print(\"El segundo miembro de mi tercer equipo se llama: \")\n",
        "print(equiposLaSalle[2][1])"
      ],
      "metadata": {
        "colab": {
          "base_uri": "https://localhost:8080/"
        },
        "id": "_9IHI7r9-W3o",
        "outputId": "91c88fdc-78e0-4d24-94da-1a6662835edf"
      },
      "execution_count": null,
      "outputs": [
        {
          "output_type": "stream",
          "name": "stdout",
          "text": [
            "El segundo miembro de mi tercer equipo se llama: \n",
            "Luisa\n"
          ]
        }
      ]
    },
    {
      "cell_type": "code",
      "source": [
        "print(equiposLaSalle[2,1])"
      ],
      "metadata": {
        "colab": {
          "base_uri": "https://localhost:8080/",
          "height": 176
        },
        "id": "ZIdkKR7A-_jT",
        "outputId": "8d294fe1-7ce5-47af-8602-ebd5b48f4ff9"
      },
      "execution_count": null,
      "outputs": [
        {
          "output_type": "error",
          "ename": "TypeError",
          "evalue": "ignored",
          "traceback": [
            "\u001b[0;31m---------------------------------------------------------------------------\u001b[0m",
            "\u001b[0;31mTypeError\u001b[0m                                 Traceback (most recent call last)",
            "\u001b[0;32m<ipython-input-14-5b38e924d25c>\u001b[0m in \u001b[0;36m<cell line: 1>\u001b[0;34m()\u001b[0m\n\u001b[0;32m----> 1\u001b[0;31m \u001b[0mprint\u001b[0m\u001b[0;34m(\u001b[0m\u001b[0mequiposLaSalle\u001b[0m\u001b[0;34m[\u001b[0m\u001b[0;36m2\u001b[0m\u001b[0;34m,\u001b[0m\u001b[0;36m1\u001b[0m\u001b[0;34m]\u001b[0m\u001b[0;34m)\u001b[0m\u001b[0;34m\u001b[0m\u001b[0;34m\u001b[0m\u001b[0m\n\u001b[0m",
            "\u001b[0;31mTypeError\u001b[0m: list indices must be integers or slices, not tuple"
          ]
        }
      ]
    }
  ]
}